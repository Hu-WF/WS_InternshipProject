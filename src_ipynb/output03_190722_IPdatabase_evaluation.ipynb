{
 "cells": [
  {
   "cell_type": "code",
   "execution_count": 1,
   "metadata": {},
   "outputs": [],
   "source": [
    "#01 qqLoc城市名标准文件格式转换（xml转csv） ，并打印基本信息："
   ]
  },
  {
   "cell_type": "code",
   "execution_count": 2,
   "metadata": {},
   "outputs": [
    {
     "name": "stdout",
     "output_type": "stream",
     "text": [
      "已将data/QQ-LocList/LocList.xml转换为output/qqloc/FSN_fromQQ.csv.\n",
      "qqLoc总数据量有： 3771\n",
      "qqLoc国家数量有： 145\n",
      "qqLoc省/州数量有： 120\n",
      "qqLoc城市数量有： 3668\n"
     ]
    }
   ],
   "source": [
    "#!/usr/bin/env python 3.7\n",
    "# -*- coding:utf-8 -*-\n",
    "import pandas as pd\n",
    "import xml.etree.ElementTree as ET\n",
    "\n",
    "#将xml数据库转换为csv保存\n",
    "def xml_to_csv(data=\"../data/QQ-LocList/LocList.xml\"):\n",
    "    tree=ET.parse(data)\n",
    "    root=tree.getroot()\n",
    "    result=[]\n",
    "    for country in root.iter('CountryRegion'):#country\n",
    "        country_name, country_code = country.attrib[\"Name\"], country.attrib[\"Code\"]\n",
    "        for state in country:#state\n",
    "            try:\n",
    "                state_name, state_code = state.attrib['Name'], state.attrib['Code']\n",
    "            except:\n",
    "                state_name = state_code = None\n",
    "            for city in state:#city\n",
    "                city_name, city_code = city.attrib['Name'], city.attrib['Code']\n",
    "                result.append({'country_name':country_name,'country_code':country_code,\n",
    "                               'state_name':state_name,'state_code':state_code,\n",
    "                               'city_name':city_name,'city_code':city_code})\n",
    "    result=pd.DataFrame(result,columns=['country_name','country_code','state_name','state_code','city_name','city_code'])\n",
    "    print('已将data/QQ-LocList/LocList.xml转换为output/qqloc/FSN_fromQQ.csv.')\n",
    "    result.to_csv('../output/qqloc/FSN_fromQQ.csv')\n",
    "    print(\"qqLoc总数据量有：\",result.shape[0])\n",
    "    country=result.drop_duplicates(subset=['country_name', ], keep='first', inplace=False)\n",
    "    print(\"qqLoc国家数量有：\", country.shape[0])\n",
    "    state=result.drop_duplicates(subset=['state_name', ], keep='first', inplace=False)\n",
    "    print(\"qqLoc省/州数量有：\", state.shape[0])\n",
    "    city=result.drop_duplicates(subset=['city_name', ], keep='first', inplace=False)\n",
    "    print(\"qqLoc城市数量有：\", city.shape[0])\n",
    "    return 0\n",
    "\n",
    "if __name__==\"__main__\":\n",
    "    xml_to_csv()"
   ]
  },
  {
   "cell_type": "code",
   "execution_count": 3,
   "metadata": {},
   "outputs": [],
   "source": [
    "# 02 分析maxmind库的基本信息："
   ]
  },
  {
   "cell_type": "code",
   "execution_count": 5,
   "metadata": {},
   "outputs": [
    {
     "name": "stdout",
     "output_type": "stream",
     "text": [
      "Index(['geoname_id', 'locale_code', 'continent_code', 'continent_name',\n",
      "       'country_iso_code', 'country_name', 'subdivision_1_iso_code',\n",
      "       'subdivision_1_name', 'subdivision_2_iso_code', 'subdivision_2_name',\n",
      "       'city_name', 'metro_code', 'time_zone', 'is_in_european_union'],\n",
      "      dtype='object')\n",
      "maxmind原始数据量 (145718, 14)\n",
      "maxmind洲数量 (7, 5)\n",
      "maxmind国家数量 (251, 5)\n",
      "maxmind城市数量 (123757, 5)\n"
     ]
    }
   ],
   "source": [
    "def maxmind_eval(data='../data/GeoIP2-City-CSV/GeoIP2-City-CSV_20190625/GeoIP2-City-Locations-en.csv'):\n",
    "    data=pd.read_csv(data)\n",
    "    print(data.columns)\n",
    "    print('maxmind原始数据量',data.shape)\n",
    "    cols=['continent_code','continent_name','country_iso_code','country_name','city_name']\n",
    "    bad_cols=[col for col in data.columns if col not in cols]\n",
    "    data.drop(bad_cols,axis=1,inplace=True)\n",
    "    # data.drop_duplicates(subset=['continent_code','continent_name','country_iso_code','country_name',],keep='first',inplace=True)\n",
    "    continent=data.drop_duplicates(subset=['continent_name', ],keep='first', inplace=False)\n",
    "    print('maxmind洲数量',continent.shape)\n",
    "    country=data.drop_duplicates(subset=['country_name', ],keep='first', inplace=False)\n",
    "    print('maxmind国家数量',country.shape)\n",
    "    city=data.drop_duplicates(subset=['city_name', ],keep='first', inplace=False)\n",
    "    print('maxmind城市数量',city.shape)\n",
    "\n",
    "if __name__ == '__main__':\n",
    "    maxmind_eval()"
   ]
  },
  {
   "cell_type": "code",
   "execution_count": 6,
   "metadata": {},
   "outputs": [],
   "source": [
    "# 03 将cnc的格式进行转换（.str转换为csv），并分割好，然后分析cnc基本信息："
   ]
  },
  {
   "cell_type": "code",
   "execution_count": 11,
   "metadata": {},
   "outputs": [
    {
     "name": "stdout",
     "output_type": "stream",
     "text": [
      "Index(['<IPHEAD>', '<IPTAIL>', '<OWNER>', '<ISP>', '<CITY>', '<VIEW>'], dtype='object')\n",
      "cnc原始数据量 (4698514, 6)\n",
      "cnc国家数量 (244, 4)\n",
      "cnc省/州数量 (3322, 4)\n",
      "cnc城市数量 (1876, 4)\n"
     ]
    }
   ],
   "source": [
    "def cnc_eval(path='../data/ipb-ips_raw.str/ipb-ips_raw'):\n",
    "    data=pd.read_csv(path+'.str',encoding='utf-8',header=1,sep='\\t')\n",
    "    print(data.columns,)\n",
    "    print('cnc原始数据量', data.shape)\n",
    "    data.drop(['<IPHEAD>','<IPTAIL>','<OWNER>','<ISP>','<VIEW>',],axis=1,inplace=True)\n",
    "    data.to_csv(path+'.csv',encoding='utf-8')#将.str格式文件转换为.csv文件，存回原始文件夹\n",
    "    #分割出三段\n",
    "    data['country_code'],data['state'],data['city']=data['<CITY>'].str.split('_',2).str\n",
    "    country=data.drop_duplicates(subset=['country_code'],keep='first', inplace=False)\n",
    "    #country.to_csv('../output/cnc/cnc_country.csv')\n",
    "    print(\"cnc国家数量\",country.shape)\n",
    "    state=data.drop_duplicates(subset=['state'],keep='first', inplace=False)\n",
    "    print(\"cnc省/州数量\",state.shape)\n",
    "    city=data.drop_duplicates(subset=['city'],keep='first', inplace=False)\n",
    "    print(\"cnc城市数量\",city.shape)\n",
    "    #data.to_csv('../output/cnc/ipb-ips_raw_splited.csv')\n",
    "\n",
    "if __name__=='__main__':\n",
    "    # maxmind_eval()\n",
    "    cnc_eval()"
   ]
  },
  {
   "cell_type": "code",
   "execution_count": null,
   "metadata": {},
   "outputs": [],
   "source": []
  }
 ],
 "metadata": {
  "kernelspec": {
   "display_name": "Python 3",
   "language": "python",
   "name": "python3"
  },
  "language_info": {
   "codemirror_mode": {
    "name": "ipython",
    "version": 3
   },
   "file_extension": ".py",
   "mimetype": "text/x-python",
   "name": "python",
   "nbconvert_exporter": "python",
   "pygments_lexer": "ipython3",
   "version": "3.7.3"
  }
 },
 "nbformat": 4,
 "nbformat_minor": 2
}
