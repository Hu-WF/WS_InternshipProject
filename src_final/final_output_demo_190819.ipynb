{
 "cells": [
  {
   "cell_type": "code",
   "execution_count": 1,
   "metadata": {},
   "outputs": [],
   "source": [
    "# 用于从CNC和MaxMind生成FSN.csv和FSN_with_IP.csv的模块演示"
   ]
  },
  {
   "cell_type": "code",
   "execution_count": 1,
   "metadata": {},
   "outputs": [
    {
     "name": "stdout",
     "output_type": "stream",
     "text": [
      "Generate FSN.csv and FSN_with_IP.csv through GenerateFSN and FSNProcessing module.\n",
      "    default ignore_fsnip =False,if True, FSN_with_IP.csv will not be generated.\n",
      "     Format of Code and Data:\n",
      "        |-data\n",
      "            |-...\n",
      "                |-ipb-ips_raw.str\n",
      "                |-GeoIP2-City-Locations-en.csv\n",
      "                |-GeoIP2-City-Blocks-IPv4.csv\n",
      "                |-GeoIP2-City-Blocks-IPv6.csv\n",
      "        |-src\n",
      "            |-generate_fsn.py\n",
      "        |-fileout\n",
      "            |-FSN_20xx-xx-xx.csv\n",
      "            |-FSN_with_IP_20xx-xx-xx.csv\n",
      "    \n",
      "Generating std FSN...\n",
      "CNC_FSN_shape: (564, 1)\n",
      "MaxMind_FSN_shape (143010, 1)\n",
      "FSN_shape (143574, 1)\n",
      "FSN_English&Num shape= 143161\n",
      "FSN_Latin shape= 413\n",
      "The generated std FSN is in the following file path: ../fileout/FSN_2019-08-20.csv\n",
      "Generating FSN_with_IP...\n",
      "Loading MaxMind 'GeoIP2-City-IPv4/IPv6.csv' and 'GeoIP2-City-Locations-en.csv' ...\n",
      "Converting 'network' to '<IPHEAD>-<IPTAIL>' in MaxMind with IPy module, takes about 4 minutes... \n",
      "Create IPv4_FSN,IPv6_FSN sucess.\n",
      "Loading CNC IP-FSN...\n",
      "Expanding cnc...\n",
      "load cnc_fsn sucess.\n",
      "MaxMind_IPv4-FSN.shape: (8069124, 3)\n",
      "MaxMind_IPv6-FSN.shape: (673963, 3)\n",
      "CNC_IPs-FSN.shape: (1662456, 3)\n",
      "FSN-std.shape: (143574, 6)\n",
      "Merging...\n",
      "FSN_with_IP.shape: (10015656, 8)\n",
      "Saving...\n",
      "The generated FSN_with_IP is in the following file path: ../fileout/FSN_with_IP_2019-08-20.csv\n"
     ]
    }
   ],
   "source": [
    "from generate_fsn import generate_fsn_fsnip\n",
    "\n",
    "if __name__ == '__main__':\n",
    "    print(generate_fsn_fsnip.__doc__)\n",
    "    generate_fsn_fsnip(cnc_ips_path='../data/ipb-ips_raw.str/ipb-ips_raw.str',\n",
    "                       maxmind_city_path='../data/GeoIP2-City-CSV/GeoIP2-City-CSV_20190625/GeoIP2-City-Locations-en.csv',\n",
    "                       maxmind_IPv4_path='../data/GeoIP2-City-CSV/GeoIP2-City-CSV_20190625/GeoIP2-City-Blocks-IPv4.csv',\n",
    "                       maxmind_IPv6_path='../data/GeoIP2-City-CSV/GeoIP2-City-CSV_20190625/GeoIP2-City-Blocks-IPv6.csv',)\n"
   ]
  },
  {
   "cell_type": "code",
   "execution_count": null,
   "metadata": {},
   "outputs": [],
   "source": []
  }
 ],
 "metadata": {
  "kernelspec": {
   "display_name": "Python 3",
   "language": "python",
   "name": "python3"
  },
  "language_info": {
   "codemirror_mode": {
    "name": "ipython",
    "version": 3
   },
   "file_extension": ".py",
   "mimetype": "text/x-python",
   "name": "python",
   "nbconvert_exporter": "python",
   "pygments_lexer": "ipython3",
   "version": "3.7.3"
  }
 },
 "nbformat": 4,
 "nbformat_minor": 2
}
