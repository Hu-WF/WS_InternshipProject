{
 "cells": [
  {
   "cell_type": "code",
   "execution_count": 1,
   "metadata": {},
   "outputs": [],
   "source": [
    "# output02_190704_geo_inverse_coding.py"
   ]
  },
  {
   "cell_type": "code",
   "execution_count": 6,
   "metadata": {},
   "outputs": [
    {
     "name": "stdout",
     "output_type": "stream",
     "text": [
      "city_name == Null: 1173\n",
      "city_name == English: 144115\n",
      "city_name == Non-English: 430\n"
     ]
    }
   ],
   "source": [
    "from output02_190704_geo_inverse_coding import city_location_ansys,geo_reverse_coding\n",
    "\n",
    "if __name__ == '__main__':\n",
    "    # MaxMind analysis：\n",
    "    city_location_ansys()\n",
    "\n",
    "    # Reverse:\n",
    "#     geo_reverse_coding(latitude='25.9922', longitude='119.4460')\n",
    "\n",
    "    # Batch reverse:\n",
    "    # geoID=get_geoID()\n",
    "    # data=merge_geoID_data(geoID,)\n",
    "    # batch_geo_reverse_coding(data)\n",
    "    # get_finall_result()"
   ]
  },
  {
   "cell_type": "code",
   "execution_count": 7,
   "metadata": {},
   "outputs": [],
   "source": [
    "# output03_190722_geoip_evaluation.py"
   ]
  },
  {
   "cell_type": "code",
   "execution_count": 8,
   "metadata": {},
   "outputs": [
    {
     "name": "stdout",
     "output_type": "stream",
     "text": [
      "Convert XML to CSV sucess.\n",
      "qqLoc.shape =: 3771\n",
      "qqLoc.country_name.shape : 145\n",
      "qqLoc.state_name.shape : 120\n",
      "qqLoc.city_name.shape : 3668\n",
      "Index(['geoname_id', 'locale_code', 'continent_code', 'continent_name',\n",
      "       'country_iso_code', 'country_name', 'subdivision_1_iso_code',\n",
      "       'subdivision_1_name', 'subdivision_2_iso_code', 'subdivision_2_name',\n",
      "       'city_name', 'metro_code', 'time_zone', 'is_in_european_union'],\n",
      "      dtype='object')\n",
      "MaxMind.shape : (145718, 14)\n",
      "MaxMind.continent_name.shape : (7, 5)\n",
      "MaxMind.country_name.shape : (251, 5)\n",
      "MaxMind.city_name.shape : (123757, 5)\n",
      "CNC.shape : (4698514, 6)\n",
      "CNC.country.shape : (244, 4)\n",
      "CNC.state.shape : (3322, 4)\n",
      "CNC.city.shape : (1876, 4)\n"
     ]
    }
   ],
   "source": [
    "from output03_190722_geoip_evaluation import xml_to_csv,maxmind_eval,cnc_eval\n",
    "\n",
    "if __name__ == '__main__':\n",
    "    xml_to_csv()\n",
    "    maxmind_eval()\n",
    "    cnc_eval()"
   ]
  },
  {
   "cell_type": "code",
   "execution_count": 9,
   "metadata": {},
   "outputs": [],
   "source": [
    "# output04_190807_city_isp_query.py"
   ]
  },
  {
   "cell_type": "code",
   "execution_count": 10,
   "metadata": {},
   "outputs": [
    {
     "name": "stdout",
     "output_type": "stream",
     "text": [
      "Loading data...\n",
      "First run, reloading database...\n",
      "load CNC dataframe ...\n",
      "load maxmind dataframe ...\n"
     ]
    },
    {
     "name": "stderr",
     "output_type": "stream",
     "text": [
      "/root/anaconda3/lib/python3.7/site-packages/ipykernel_launcher.py:23: DtypeWarning: Columns (6) have mixed types. Specify dtype option on import or set low_memory=False.\n"
     ]
    },
    {
     "name": "stdout",
     "output_type": "stream",
     "text": [
      "First run, reloading database...\n",
      "load cnc dataframe ...\n",
      "             <IPHEAD>      <IPTAIL>    <ISP>\n",
      "count         4698514       4698514  4698514\n",
      "unique        4698514       4698514      230\n",
      "top     66.57.163.208  70.46.101.27  XX_qita\n",
      "freq                1             1  1846615\n",
      "load maxmind dataframe ...\n",
      "                  network            isp\n",
      "count             1148833        1146389\n",
      "unique            1148833          82945\n",
      "top     124.105.24.140/31  AT&T Services\n",
      "freq                    1          39476\n",
      "==================================================\n",
      "Input IP to query city_name and ISP,or press q/Q to quit:1.0.0.0\n",
      "city_name:\n",
      "CNC IP: 1.0.0.0\n",
      "CNC： AU_South-Australia_Adelaide\n",
      "Maxmind IP: 1.0.0.0/24\n",
      "MaxMind： OC_AU_South Australia_Plympton\n",
      "ISP:\n",
      "CNC IP: 1.0.0.0\n",
      "CNC： US_Google\n",
      "Maxmind IP: 1.0.0.0/24\n",
      "MaxMind： Cloudflare\n",
      "==================================================\n",
      "Input IP to query city_name and ISP,or press q/Q to quit:2.0.0.0\n",
      "city_name:\n",
      "CNC IP: 2.0.0.0\n",
      "CNC： FR_Pays-de-la-Loire_qita\n",
      "Maxmind IP: 2.0.0.0/24\n",
      "MaxMind： EU_FR_Pays de la Loire_Le Landreau\n",
      "ISP:\n",
      "CNC IP: 2.0.0.0\n",
      "CNC： FR_Orange\n",
      "Maxmind IP: 2.0.0.0/15\n",
      "MaxMind： Orange\n",
      "==================================================\n",
      "Input IP to query city_name and ISP,or press q/Q to quit:q\n"
     ]
    }
   ],
   "source": [
    "from output04_190807_city_isp_query import query_in_console\n",
    "\n",
    "if __name__ == '__main__':\n",
    "    # city_name query\n",
    "    # cq = CitynameQuery()\n",
    "    # cnc, maxmind = cq.load_citynameDatabase_faster()\n",
    "    # Way-1:\n",
    "    # cq.console_quering(cnc, maxmind)\n",
    "    # Way-2:\n",
    "    # cq.cnc_city_query(cnc,ip='1.0.0.0')\n",
    "    # cq.maxmind_city_query(maxmind,ip='1.0.0.0')\n",
    "\n",
    "    # ISP query\n",
    "    # iq = ISPQuery()\n",
    "    # cnc, maxmind = iq.load_ispdatabase_faster()\n",
    "    # Way-1:\n",
    "    # iq.console_quering(cnc, maxmind)\n",
    "    # Way-2:\n",
    "    # iq.cnc_isp_query(cnc,ip='1.0.0.0')\n",
    "    # iq.maxmind_isp_query(maxmind,ip='1.0.0.0')\n",
    "\n",
    "    # city_name and ISP query.'''\n",
    "    query_in_console()"
   ]
  },
  {
   "cell_type": "code",
   "execution_count": 11,
   "metadata": {},
   "outputs": [],
   "source": [
    "# output05_190812_cnc_expand.py"
   ]
  },
  {
   "cell_type": "code",
   "execution_count": 14,
   "metadata": {},
   "outputs": [],
   "source": [
    "from output05_190812_cnc_expand import expand_cnc_with_continent\n",
    "\n",
    "if __name__ == '__main__':\n",
    "    expand_cnc_with_continent()\n",
    "    # get_maxmind_cityDatabase()\n",
    "    # expand_cnc_with_maxmind()"
   ]
  },
  {
   "cell_type": "code",
   "execution_count": null,
   "metadata": {},
   "outputs": [],
   "source": [
    "# output06_190819_generate_fsn.py\n",
    "# final output"
   ]
  },
  {
   "cell_type": "code",
   "execution_count": 16,
   "metadata": {},
   "outputs": [
    {
     "name": "stdout",
     "output_type": "stream",
     "text": [
      "Generate FSN.csv and FSN_with_IP.csv through GenerateFSN and FSNProcessing module.\n",
      "    default ignore_fsnip =False,if True, FSN_with_IP.csv will not be generated.\n",
      "     Format of Code and Data:\n",
      "        |-data\n",
      "            |-...\n",
      "                |-ipb-ips_raw.str\n",
      "                |-GeoIP2-City-Locations-en.csv\n",
      "                |-GeoIP2-City-Blocks-IPv4.csv\n",
      "                |-GeoIP2-City-Blocks-IPv6.csv\n",
      "        |-src\n",
      "            |-generate_fsn.py\n",
      "        |-fileout\n",
      "            |-FSN_20xx-xx-xx.csv\n",
      "            |-FSN_with_IP_20xx-xx-xx.csv\n",
      "    \n",
      "Generating std FSN...\n",
      "CNC_FSN_shape: (564, 1)\n",
      "MaxMind_FSN_shape (143010, 1)\n",
      "FSN_shape (143574, 1)\n",
      "FSN_English&Num shape= 143161\n",
      "FSN_Latin shape= 413\n",
      "The generated std FSN is in the following file path: ../fileout/FSN_2019-08-20.csv\n",
      "Generating FSN_with_IP...\n",
      "Loading MaxMind 'GeoIP2-City-IPv4/IPv6.csv' and 'GeoIP2-City-Locations-en.csv' ...\n",
      "Converting 'network' to '<IPHEAD>-<IPTAIL>' in MaxMind with IPy module, takes about 4 minutes... \n",
      "Create IPv4_FSN,IPv6_FSN sucess.\n",
      "Loading CNC IP-FSN...\n",
      "Expanding cnc...\n",
      "load cnc_fsn sucess.\n",
      "MaxMind_IPv4-FSN.shape: (8069124, 3)\n",
      "MaxMind_IPv6-FSN.shape: (673963, 3)\n",
      "CNC_IPs-FSN.shape: (1662456, 3)\n",
      "FSN-std.shape: (143574, 6)\n",
      "Merging...\n",
      "FSN_with_IP.shape: (10015656, 8)\n",
      "Saving...\n",
      "The generated FSN_with_IP is in the following file path: ../fileout/FSN_with_IP_2019-08-20.csv\n"
     ]
    }
   ],
   "source": [
    "from output06_190819_generate_fsn import generate_fsn_fsnip\n",
    "\n",
    "if __name__ == '__main__':\n",
    "    # # Generate FSN through CNC and MaxMind-city：\n",
    "    # gf=GenerateFSN(cnc_ips_path='../data/ipb-ips_raw.str/ipb-ips_raw.str',\n",
    "    #                maxmind_city_path='../data/GeoIP2-City-CSV/GeoIP2-City-CSV_20190625/GeoIP2-City-Locations-en.csv')\n",
    "    # print(gf.__doc__)\n",
    "    # gf.get_std_fsn()\n",
    "    #\n",
    "    #\n",
    "    # #Generate FSN_with_IP through CNC, MaxMind-IPv4 and MaxMind-IPv6：\n",
    "    # fp = FSNProcessing(maxmind_ipv4_path='../data/GeoIP2-City-CSV/GeoIP2-City-CSV_20190625/GeoIP2-City-Blocks-IPv4.csv',\n",
    "    #                    maxmind_ipv6_path='../data/GeoIP2-City-CSV/GeoIP2-City-CSV_20190625/GeoIP2-City-Blocks-IPv6.csv',\n",
    "    #                    maxmind_city_path=\"../data/GeoIP2-City-CSV/GeoIP2-City-CSV_20190625/GeoIP2-City-Locations-en.csv\",)\n",
    "    # print(fp.__doc__)\n",
    "    # fp.get_std_fsn_with_ip()\n",
    "\n",
    "    print(generate_fsn_fsnip.__doc__)\n",
    "    generate_fsn_fsnip(cnc_ips_path='../data/ipb-ips_raw.str/ipb-ips_raw.str',\n",
    "                       maxmind_city_path='../data/GeoIP2-City-CSV/GeoIP2-City-CSV_20190625/GeoIP2-City-Locations-en.csv',\n",
    "                       maxmind_IPv4_path='../data/GeoIP2-City-CSV/GeoIP2-City-CSV_20190625/GeoIP2-City-Blocks-IPv4.csv',\n",
    "                       maxmind_IPv6_path='../data/GeoIP2-City-CSV/GeoIP2-City-CSV_20190625/GeoIP2-City-Blocks-IPv6.csv',\n",
    "                       ignore_fsnip=False)"
   ]
  },
  {
   "cell_type": "code",
   "execution_count": null,
   "metadata": {},
   "outputs": [],
   "source": []
  }
 ],
 "metadata": {
  "kernelspec": {
   "display_name": "Python 3",
   "language": "python",
   "name": "python3"
  },
  "language_info": {
   "codemirror_mode": {
    "name": "ipython",
    "version": 3
   },
   "file_extension": ".py",
   "mimetype": "text/x-python",
   "name": "python",
   "nbconvert_exporter": "python",
   "pygments_lexer": "ipython3",
   "version": "3.7.3"
  }
 },
 "nbformat": 4,
 "nbformat_minor": 2
}
